{
 "cells": [
  {
   "cell_type": "code",
   "execution_count": 2,
   "metadata": {},
   "outputs": [
    {
     "ename": "ImportError",
     "evalue": "cannot import name 'Resnet18' from 'MOE_TESTS.src.models' (/cluster/tufts/hugheslab/swilli26/MOE_TESTS/src/models.py)",
     "output_type": "error",
     "traceback": [
      "\u001b[0;31m---------------------------------------------------------------------------\u001b[0m",
      "\u001b[0;31mImportError\u001b[0m                               Traceback (most recent call last)",
      "Input \u001b[0;32mIn [2]\u001b[0m, in \u001b[0;36m<cell line: 2>\u001b[0;34m()\u001b[0m\n\u001b[1;32m      1\u001b[0m \u001b[38;5;28;01mimport\u001b[39;00m \u001b[38;5;21;01msys\u001b[39;00m\n\u001b[0;32m----> 2\u001b[0m \u001b[38;5;28;01mfrom\u001b[39;00m \u001b[38;5;21;01mMOE_TESTS\u001b[39;00m\u001b[38;5;21;01m.\u001b[39;00m\u001b[38;5;21;01msrc\u001b[39;00m\u001b[38;5;21;01m.\u001b[39;00m\u001b[38;5;21;01mmodels\u001b[39;00m \u001b[38;5;28;01mimport\u001b[39;00m AdaptiveMoEWithSkip, Resnet18\n\u001b[1;32m      3\u001b[0m \u001b[38;5;28;01mfrom\u001b[39;00m \u001b[38;5;21;01mMOE_TESTS\u001b[39;00m\u001b[38;5;21;01m.\u001b[39;00m\u001b[38;5;21;01msrc\u001b[39;00m\u001b[38;5;21;01m.\u001b[39;00m\u001b[38;5;21;01mutils\u001b[39;00m \u001b[38;5;28;01mimport\u001b[39;00m load_cifar10_with_stats\n",
      "\u001b[0;31mImportError\u001b[0m: cannot import name 'Resnet18' from 'MOE_TESTS.src.models' (/cluster/tufts/hugheslab/swilli26/MOE_TESTS/src/models.py)"
     ]
    }
   ],
   "source": [
    "import sys\n",
    "from src.models import AdaptiveMoEWithSkip, ResNet18\n",
    "from src.utils import load_cifar10_with_stats"
   ]
  },
  {
   "cell_type": "code",
   "execution_count": null,
   "metadata": {},
   "outputs": [],
   "source": [
    "def count_parameters(model):\n",
    "    return sum(p.numel() for p in model.parameters())"
   ]
  },
  {
   "cell_type": "code",
   "execution_count": null,
   "metadata": {},
   "outputs": [],
   "source": [
    "# Get ResNet18 parameter count\n",
    "resnet18 = ResNet18()\n",
    "resnet18_params = count_parameters(resnet18)\n",
    "print(f\"ResNet18 has {resnet18_params} parameters\")"
   ]
  },
  {
   "cell_type": "code",
   "execution_count": null,
   "metadata": {},
   "outputs": [],
   "source": [
    "for num_experts in [4, 6, 8]:\n",
    "    moe = AdaptiveMoEWithSkip(num_experts=num_experts)\n",
    "    print(f\"MoE with {num_experts} experts: {count_parameters(moe)} parameters\")\n",
    "    print(f\"  Configuration: {moe.num_layers} layers with blocks {moe.num_blocks}, base_width={moe.base_width}\")\n",
    "    print(f\"  Expert widths: {[moe.base_width * (2**i) for i in range(moe.num_layers)]}\")"
   ]
  }
 ],
 "metadata": {
  "kernelspec": {
   "display_name": "Echo_MIL",
   "language": "python",
   "name": "python3"
  },
  "language_info": {
   "codemirror_mode": {
    "name": "ipython",
    "version": 3
   },
   "file_extension": ".py",
   "mimetype": "text/x-python",
   "name": "python",
   "nbconvert_exporter": "python",
   "pygments_lexer": "ipython3",
   "version": "3.8.13"
  }
 },
 "nbformat": 4,
 "nbformat_minor": 2
}
